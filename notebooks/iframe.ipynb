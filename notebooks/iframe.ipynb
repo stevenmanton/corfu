{
 "metadata": {
  "name": "",
  "signature": "sha256:88f4bfd030d524eaa4df4a3cfdedc243fd34a065a00f052d6b0faacd1dd6b26e"
 },
 "nbformat": 3,
 "nbformat_minor": 0,
 "worksheets": [
  {
   "cells": [
    {
     "cell_type": "code",
     "collapsed": false,
     "input": [
      "%load_ext autoreload\n",
      "%autoreload 2"
     ],
     "language": "python",
     "metadata": {},
     "outputs": [],
     "prompt_number": 1
    },
    {
     "cell_type": "code",
     "collapsed": false,
     "input": [
      "from IPython.display import display, HTML, Javascript\n",
      "\n",
      "import corfu"
     ],
     "language": "python",
     "metadata": {},
     "outputs": [],
     "prompt_number": 2
    },
    {
     "cell_type": "code",
     "collapsed": false,
     "input": [
      "# corfu.corfu.D3Vis()._to_html()\n",
      "HTML(corfu.corfu.D3Vis()._to_html())"
     ],
     "language": "python",
     "metadata": {},
     "outputs": [
      {
       "html": [
        "\n",
        "        <div id=\"vis_b6a66cc0bfa643aa9fedff560d4a588e\"></div>\n",
        "\n",
        "        <style>\n",
        "            \n",
        "        </style>\n",
        "\n",
        "        <script type=\"text/javascript\">\n",
        "        require.config({paths: {d3: \"http://d3js.org/d3.v3.min\"}});\n",
        "\n",
        "        require([\"d3\"], function(d3) {\n",
        "          console.log(d3.version);\n",
        "          \n",
        "          \n",
        "        });\n",
        "\n",
        "        </script>\n",
        "        "
       ],
       "metadata": {},
       "output_type": "pyout",
       "prompt_number": 3,
       "text": [
        "<IPython.core.display.HTML at 0x10421d850>"
       ]
      }
     ],
     "prompt_number": 3
    },
    {
     "cell_type": "code",
     "collapsed": false,
     "input": [
      "#print corfu.corfu.TestVis()._to_html()\n",
      "HTML(corfu.corfu.TestVis()._to_html())"
     ],
     "language": "python",
     "metadata": {},
     "outputs": [
      {
       "html": [
        "\n",
        "        <div id=\"vis_44a1ce59b8c24ea09c4901c119789503\"></div>\n",
        "\n",
        "        <style>\n",
        "            \n",
        "        </style>\n",
        "\n",
        "        <script type=\"text/javascript\">\n",
        "        require.config({paths: {d3: \"http://d3js.org/d3.v3.min\"}});\n",
        "\n",
        "        require([\"d3\"], function(d3) {\n",
        "          console.log(d3.version);\n",
        "          \n",
        "          \n",
        "        console.log(d3.version);\n",
        "          \n",
        "          var svg = d3.select(\"#vis_44a1ce59b8c24ea09c4901c119789503\").append(\"svg\")\n",
        "            .attr(\"height\",100)\n",
        "          \n",
        "          var circle = svg.selectAll(\"circle\")\n",
        "            .data([10, 20, 30, 40])\n",
        "            .enter()\n",
        "            .append(\"circle\")\n",
        "            .attr(\"r\", function(d) { return d })\n",
        "            .attr(\"cx\", function(d, i){return 50 + (i*80)})\n",
        "            .attr(\"cy\", 50);\n",
        "        \n",
        "        });\n",
        "\n",
        "        </script>\n",
        "        "
       ],
       "metadata": {},
       "output_type": "pyout",
       "prompt_number": 4,
       "text": [
        "<IPython.core.display.HTML at 0x10421d8d0>"
       ]
      }
     ],
     "prompt_number": 4
    },
    {
     "cell_type": "code",
     "collapsed": false,
     "input": [
      "HTML(corfu.corfu.CalendarView({'2000-02-01':0.1})._to_html())"
     ],
     "language": "python",
     "metadata": {},
     "outputs": [
      {
       "html": [
        "\n",
        "        <div id=\"vis_06027666aab2413ebc41b74b10c9eb45\"></div>\n",
        "\n",
        "        <style>\n",
        "            \n",
        "            body {\n",
        "              font: 10px sans-serif;\n",
        "              shape-rendering: crispEdges;\n",
        "            }\n",
        "\n",
        "            .day {\n",
        "              fill: #fff;\n",
        "              stroke: #ccc;\n",
        "            }\n",
        "\n",
        "            .month {\n",
        "              fill: none;\n",
        "              stroke: #000;\n",
        "              stroke-width: 2px;\n",
        "            }\n",
        "\n",
        "            .RdYlGn .q0-11{fill:rgb(165,0,38)}\n",
        "            .RdYlGn .q1-11{fill:rgb(215,48,39)}\n",
        "            .RdYlGn .q2-11{fill:rgb(244,109,67)}\n",
        "            .RdYlGn .q3-11{fill:rgb(253,174,97)}\n",
        "            .RdYlGn .q4-11{fill:rgb(254,224,139)}\n",
        "            .RdYlGn .q5-11{fill:rgb(255,255,191)}\n",
        "            .RdYlGn .q6-11{fill:rgb(217,239,139)}\n",
        "            .RdYlGn .q7-11{fill:rgb(166,217,106)}\n",
        "            .RdYlGn .q8-11{fill:rgb(102,189,99)}\n",
        "            .RdYlGn .q9-11{fill:rgb(26,152,80)}\n",
        "            .RdYlGn .q10-11{fill:rgb(0,104,55)}\n",
        "            \n",
        "        </style>\n",
        "\n",
        "        <script type=\"text/javascript\">\n",
        "        require.config({paths: {d3: \"http://d3js.org/d3.v3.min\"}});\n",
        "\n",
        "        require([\"d3\"], function(d3) {\n",
        "          console.log(d3.version);\n",
        "          \n",
        "          \n",
        "            var width = 960,\n",
        "                height = 136,\n",
        "                cellSize = 17; // cell size\n",
        "\n",
        "            var day = d3.time.format(\"%w\"),\n",
        "                week = d3.time.format(\"%U\"),\n",
        "                percent = d3.format(\".1%\"),\n",
        "                format = d3.time.format(\"%Y-%m-%d\");\n",
        "\n",
        "            var color = d3.scale.quantize()\n",
        "                .domain([-.05, .05])\n",
        "                .range(d3.range(11).map(function(d) { return \"q\" + d + \"-11\"; }));\n",
        "\n",
        "            var svg = d3.select(\"#vis_06027666aab2413ebc41b74b10c9eb45\").selectAll(\"svg\")\n",
        "                .data(d3.range(2000, 2002))\n",
        "              .enter().append(\"svg\")\n",
        "                .attr(\"width\", width)\n",
        "                .attr(\"height\", height)\n",
        "                .attr(\"class\", \"RdYlGn\")\n",
        "              .append(\"g\")\n",
        "                .attr(\"transform\", \"translate(\" + ((width - cellSize * 53) / 2) + \",\" + (height - cellSize * 7 - 1) + \")\");\n",
        "\n",
        "            svg.append(\"text\")\n",
        "                .attr(\"transform\", \"translate(-6,\" + cellSize * 3.5 + \")rotate(-90)\")\n",
        "                .style(\"text-anchor\", \"middle\")\n",
        "                .text(function(d) { return d; });\n",
        "\n",
        "            var rect = svg.selectAll(\".day\")\n",
        "                .data(function(d) { return d3.time.days(new Date(d, 0, 1), new Date(d + 1, 0, 1)); })\n",
        "              .enter().append(\"rect\")\n",
        "                .attr(\"class\", \"day\")\n",
        "                .attr(\"width\", cellSize)\n",
        "                .attr(\"height\", cellSize)\n",
        "                .attr(\"x\", function(d) { return week(d) * cellSize; })\n",
        "                .attr(\"y\", function(d) { return day(d) * cellSize; })\n",
        "                .datum(format);\n",
        "\n",
        "            rect.append(\"title\")\n",
        "                .text(function(d) { return d; });\n",
        "\n",
        "            svg.selectAll(\".month\")\n",
        "                .data(function(d) { return d3.time.months(new Date(d, 0, 1), new Date(d + 1, 0, 1)); })\n",
        "              .enter().append(\"path\")\n",
        "                .attr(\"class\", \"month\")\n",
        "                .attr(\"d\", monthPath);\n",
        "\n",
        "            var data = {\"2000-02-01\": 0.1};\n",
        "\n",
        "              rect.filter(function(d) { return d in data; })\n",
        "                  .attr(\"class\", function(d) { return \"day \" + color(data[d]); })\n",
        "                .select(\"title\")\n",
        "                  .text(function(d) { return d + \": \" + percent(data[d]); });\n",
        "\n",
        "            function monthPath(t0) {\n",
        "              var t1 = new Date(t0.getFullYear(), t0.getMonth() + 1, 0),\n",
        "                  d0 = +day(t0), w0 = +week(t0),\n",
        "                  d1 = +day(t1), w1 = +week(t1);\n",
        "              return \"M\" + (w0 + 1) * cellSize + \",\" + d0 * cellSize\n",
        "                  + \"H\" + w0 * cellSize + \"V\" + 7 * cellSize\n",
        "                  + \"H\" + w1 * cellSize + \"V\" + (d1 + 1) * cellSize\n",
        "                  + \"H\" + (w1 + 1) * cellSize + \"V\" + 0\n",
        "                  + \"H\" + (w0 + 1) * cellSize + \"Z\";\n",
        "            }\n",
        "\n",
        "            d3.select(self.frameElement).style(\"height\", \"2910px\");\n",
        "        });\n",
        "\n",
        "        </script>\n",
        "        "
       ],
       "metadata": {},
       "output_type": "pyout",
       "prompt_number": 5,
       "text": [
        "<IPython.core.display.HTML at 0x10423d1d0>"
       ]
      }
     ],
     "prompt_number": 5
    },
    {
     "cell_type": "code",
     "collapsed": false,
     "input": [],
     "language": "python",
     "metadata": {},
     "outputs": [],
     "prompt_number": 5
    }
   ],
   "metadata": {}
  }
 ]
}
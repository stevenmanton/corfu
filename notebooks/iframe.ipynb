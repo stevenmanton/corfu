{
 "metadata": {
  "name": "",
  "signature": "sha256:157e6658b81bbb38b42504e79bf0b1566764c0b05c9737b7f6c571df530a4db8"
 },
 "nbformat": 3,
 "nbformat_minor": 0,
 "worksheets": [
  {
   "cells": [
    {
     "cell_type": "code",
     "collapsed": false,
     "input": [
      "%load_ext autoreload\n",
      "%autoreload 2"
     ],
     "language": "python",
     "metadata": {},
     "outputs": [],
     "prompt_number": 4
    },
    {
     "cell_type": "code",
     "collapsed": false,
     "input": [
      "from IPython.display import display, HTML, Javascript"
     ],
     "language": "python",
     "metadata": {},
     "outputs": [],
     "prompt_number": 18
    },
    {
     "cell_type": "code",
     "collapsed": false,
     "input": [
      "import corfu"
     ],
     "language": "python",
     "metadata": {},
     "outputs": [],
     "prompt_number": 38
    },
    {
     "cell_type": "code",
     "collapsed": false,
     "input": [
      "from uuid import uuid4"
     ],
     "language": "python",
     "metadata": {},
     "outputs": [],
     "prompt_number": 39
    },
    {
     "cell_type": "code",
     "collapsed": false,
     "input": [
      "str(uuid4())"
     ],
     "language": "python",
     "metadata": {},
     "outputs": [
      {
       "metadata": {},
       "output_type": "pyout",
       "prompt_number": 41,
       "text": [
        "'f456e601-11da-4ef8-94d6-3facd7cc927e'"
       ]
      }
     ],
     "prompt_number": 41
    },
    {
     "cell_type": "code",
     "collapsed": false,
     "input": [
      "reload(corfu)"
     ],
     "language": "python",
     "metadata": {},
     "outputs": [
      {
       "output_type": "stream",
       "stream": "stdout",
       "text": [
        "corfu\n"
       ]
      },
      {
       "metadata": {},
       "output_type": "pyout",
       "prompt_number": 46,
       "text": [
        "<module 'corfu' from '/Users/santon/anaconda/lib/python2.7/site-packages/corfu/__init__.pyc'>"
       ]
      }
     ],
     "prompt_number": 46
    },
    {
     "cell_type": "code",
     "collapsed": false,
     "input": [
      "corfu.corfu.d3vis()._to_html()"
     ],
     "language": "python",
     "metadata": {},
     "outputs": [
      {
       "metadata": {},
       "output_type": "pyout",
       "prompt_number": 61,
       "text": [
        "u'\\n\\t\\t<div id=\"vis_555c3c5fa84243efb59b2cedab5edff3\"></div>\\n\\n\\t\\t<script type=\"text/javascript\">\\n\\t\\trequire.config({paths: {d3: \"http://d3js.org/d3.v3.min\"}});\\n\\n\\t\\trequire([\"d3\"], function(d3) {\\n\\t\\t  console.log(d3.version);\\n\\t\\t  \\n\\t\\t  var svg = d3.select(\"#viz\").append(\"svg\")\\n\\t\\t    .attr(\"height\",100)\\n\\t\\t  \\n\\t\\t  var circle = svg.selectAll(\"circle\")\\n\\t\\t    .data([10, 20, 30, 40])\\n\\t\\t    .enter()\\n\\t\\t    .append(\"circle\")\\n\\t\\t    .attr(\"r\", function(d) { return d })\\n\\t\\t    .attr(\"cx\", function(d, i){return 50 + (i*80)})\\n\\t\\t    .attr(\"cy\", 50);\\n\\t\\t});\\n\\n\\t\\t</script>\\n\\t\\t'"
       ]
      }
     ],
     "prompt_number": 61
    },
    {
     "cell_type": "code",
     "collapsed": false,
     "input": [
      "HTML(corfu.corfu.d3vis()._to_html())"
     ],
     "language": "python",
     "metadata": {},
     "outputs": [
      {
       "html": [
        "\n",
        "\t\t<div id=\"vis_b77f7fdbbf2a48ce916662ac098ffb0d\"></div>\n",
        "\n",
        "\t\t<script type=\"text/javascript\">\n",
        "\t\trequire.config({paths: {d3: \"http://d3js.org/d3.v3.min\"}});\n",
        "\n",
        "\t\trequire([\"d3\"], function(d3) {\n",
        "\t\t  console.log(d3.version);\n",
        "\t\t  \n",
        "\t\t  var svg = d3.select(\"#vis_b77f7fdbbf2a48ce916662ac098ffb0d\").append(\"svg\")\n",
        "\t\t    .attr(\"height\",100)\n",
        "\t\t  \n",
        "\t\t  var circle = svg.selectAll(\"circle\")\n",
        "\t\t    .data([10, 20, 30, 40])\n",
        "\t\t    .enter()\n",
        "\t\t    .append(\"circle\")\n",
        "\t\t    .attr(\"r\", function(d) { return d })\n",
        "\t\t    .attr(\"cx\", function(d, i){return 50 + (i*80)})\n",
        "\t\t    .attr(\"cy\", 50);\n",
        "\t\t});\n",
        "\n",
        "\t\t</script>\n",
        "\t\t"
       ],
       "metadata": {},
       "output_type": "pyout",
       "prompt_number": 65,
       "text": [
        "<IPython.core.display.HTML at 0x104977e10>"
       ]
      }
     ],
     "prompt_number": 65
    },
    {
     "cell_type": "code",
     "collapsed": false,
     "input": [
      "display(HTML(\"\"\"\n",
      "\n",
      "<div id=\"viz\"></div>\n",
      "\n",
      "<script type=\"text/javascript\">\n",
      "require.config({paths: {d3: \"http://d3js.org/d3.v3.min\"}});\n",
      "\n",
      "require([\"d3\"], function(d3) {\n",
      "  console.log(d3.version);\n",
      "  \n",
      "  var svg = d3.select(\"#viz\").append(\"svg\")\n",
      "    .attr(\"height\",100)\n",
      "  \n",
      "  var circle = svg.selectAll(\"circle\")\n",
      "    .data([10, 20, 30, 40])\n",
      "    .enter()\n",
      "    .append(\"circle\")\n",
      "    .attr(\"r\", function(d) { return d })\n",
      "    .attr(\"cx\", function(d, i){return 50 + (i*80)})\n",
      "    .attr(\"cy\", 50);\n",
      "});\n",
      "\n",
      "</script>\n",
      "\n",
      "\"\"\"))"
     ],
     "language": "python",
     "metadata": {},
     "outputs": [
      {
       "html": [
        "\n",
        "\n",
        "<div id=\"viz\"></div>\n",
        "\n",
        "<script type=\"text/javascript\">\n",
        "require.config({paths: {d3: \"http://d3js.org/d3.v3.min\"}});\n",
        "\n",
        "require([\"d3\"], function(d3) {\n",
        "  console.log(d3.version);\n",
        "  \n",
        "  var svg = d3.select(\"#viz\").append(\"svg\")\n",
        "    .attr(\"height\",100)\n",
        "  \n",
        "  var circle = svg.selectAll(\"circle\")\n",
        "    .data([10, 20, 30, 40])\n",
        "    .enter()\n",
        "    .append(\"circle\")\n",
        "    .attr(\"r\", function(d) { return d })\n",
        "    .attr(\"cx\", function(d, i){return 50 + (i*80)})\n",
        "    .attr(\"cy\", 50);\n",
        "});\n",
        "\n",
        "</script>\n",
        "\n"
       ],
       "metadata": {},
       "output_type": "display_data",
       "text": [
        "<IPython.core.display.HTML at 0x10473bd50>"
       ]
      }
     ],
     "prompt_number": 100
    },
    {
     "cell_type": "code",
     "collapsed": false,
     "input": [
      "print corfu.corfu.testvis()._to_html()"
     ],
     "language": "python",
     "metadata": {},
     "outputs": [
      {
       "output_type": "stream",
       "stream": "stdout",
       "text": [
        "\n",
        "\t\t<div id=\"vis_11a7dfe863ce4799bf9034619688bf7a\"></div>\n",
        "\n",
        "\t\t<script type=\"text/javascript\">\n",
        "\t\trequire.config({paths: {d3: \"http://d3js.org/d3.v3.min\"}});\n",
        "\n",
        "\t\trequire([\"d3\"], function(d3) {\n",
        "\t\t  console.log(d3.version);\n",
        "\t\t  \n",
        "\t\t  \n",
        "\tconsole.log(d3.version);\n",
        "\t  \n",
        "\t  var svg = d3.select(\"#{{ vis_str }}\").append(\"svg\")\n",
        "\t    .attr(\"height\",100)\n",
        "\t  \n",
        "\t  var circle = svg.selectAll(\"circle\")\n",
        "\t    .data([10, 20, 30, 40])\n",
        "\t    .enter()\n",
        "\t    .append(\"circle\")\n",
        "\t    .attr(\"r\", function(d) { return d })\n",
        "\t    .attr(\"cx\", function(d, i){return 50 + (i*80)})\n",
        "\t    .attr(\"cy\", 50);\n",
        "\t\n",
        "\t\t});\n",
        "\n",
        "\t\t</script>\n",
        "\t\t\n"
       ]
      }
     ],
     "prompt_number": 77
    },
    {
     "cell_type": "code",
     "collapsed": false,
     "input": [
      "HTML(corfu.corfu.testvis()._to_html())"
     ],
     "language": "python",
     "metadata": {},
     "outputs": [
      {
       "html": [
        "\n",
        "\t\t<div id=\"vis_25341afb36204f6cb5539808e9fc1d4f\"></div>\n",
        "\n",
        "\t\t<script type=\"text/javascript\">\n",
        "\t\trequire.config({paths: {d3: \"http://d3js.org/d3.v3.min\"}});\n",
        "\n",
        "\t\trequire([\"d3\"], function(d3) {\n",
        "\t\t  console.log(d3.version);\n",
        "\t\t  \n",
        "\t\t  \n",
        "\tconsole.log(d3.version);\n",
        "\t  \n",
        "\t  var svg = d3.select(\"#{{ vis_str }}\").append(\"svg\")\n",
        "\t    .attr(\"height\",100)\n",
        "\t  \n",
        "\t  var circle = svg.selectAll(\"circle\")\n",
        "\t    .data([10, 20, 30, 40])\n",
        "\t    .enter()\n",
        "\t    .append(\"circle\")\n",
        "\t    .attr(\"r\", function(d) { return d })\n",
        "\t    .attr(\"cx\", function(d, i){return 50 + (i*80)})\n",
        "\t    .attr(\"cy\", 50);\n",
        "\t\n",
        "\t\t});\n",
        "\n",
        "\t\t</script>\n",
        "\t\t"
       ],
       "metadata": {},
       "output_type": "pyout",
       "prompt_number": 76,
       "text": [
        "<IPython.core.display.HTML at 0x104995ad0>"
       ]
      }
     ],
     "prompt_number": 76
    },
    {
     "cell_type": "code",
     "collapsed": false,
     "input": [],
     "language": "python",
     "metadata": {},
     "outputs": []
    }
   ],
   "metadata": {}
  }
 ]
}
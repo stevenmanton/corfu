{
 "metadata": {
  "name": "",
  "signature": "sha256:689096244ac11bc12c35792c86620faeb513517d1c366c760819d383250dc40e"
 },
 "nbformat": 3,
 "nbformat_minor": 0,
 "worksheets": [
  {
   "cells": [
    {
     "cell_type": "code",
     "collapsed": false,
     "input": [
      "%load_ext autoreload\n",
      "%autoreload 2"
     ],
     "language": "python",
     "metadata": {},
     "outputs": [],
     "prompt_number": 1
    },
    {
     "cell_type": "code",
     "collapsed": false,
     "input": [
      "from IPython.display import display, HTML, Javascript\n",
      "\n",
      "import corfu"
     ],
     "language": "python",
     "metadata": {},
     "outputs": [
      {
       "output_type": "stream",
       "stream": "stdout",
       "text": [
        "corfu\n"
       ]
      }
     ],
     "prompt_number": 2
    },
    {
     "cell_type": "code",
     "collapsed": false,
     "input": [
      "corfu.corfu.D3Vis()._to_html()"
     ],
     "language": "python",
     "metadata": {},
     "outputs": [
      {
       "metadata": {},
       "output_type": "pyout",
       "prompt_number": 6,
       "text": [
        "u'\\n\\t\\t<div id=\"vis_99d1ee6efaec4d25a64752f9640dfff6\"></div>\\n\\n\\t\\t<script type=\"text/javascript\">\\n\\t\\trequire.config({paths: {d3: \"http://d3js.org/d3.v3.min\"}});\\n\\n\\t\\trequire([\"d3\"], function(d3) {\\n\\t\\t  console.log(d3.version);\\n\\t\\t  \\n\\t\\t  \\n\\t\\t});\\n\\n\\t\\t</script>\\n\\t\\t'"
       ]
      }
     ],
     "prompt_number": 6
    },
    {
     "cell_type": "code",
     "collapsed": false,
     "input": [
      "HTML(corfu.corfu.D3Vis()._to_html())"
     ],
     "language": "python",
     "metadata": {},
     "outputs": [
      {
       "html": [
        "\n",
        "\t\t<div id=\"vis_e01d1e60fd7444dd8a29e02dfb154e03\"></div>\n",
        "\n",
        "\t\t<script type=\"text/javascript\">\n",
        "\t\trequire.config({paths: {d3: \"http://d3js.org/d3.v3.min\"}});\n",
        "\n",
        "\t\trequire([\"d3\"], function(d3) {\n",
        "\t\t  console.log(d3.version);\n",
        "\t\t  \n",
        "\t\t  \n",
        "\t\t});\n",
        "\n",
        "\t\t</script>\n",
        "\t\t"
       ],
       "metadata": {},
       "output_type": "pyout",
       "prompt_number": 7,
       "text": [
        "<IPython.core.display.HTML at 0x104947f90>"
       ]
      }
     ],
     "prompt_number": 7
    },
    {
     "cell_type": "code",
     "collapsed": false,
     "input": [
      "print corfu.corfu.TestVis()._to_html()"
     ],
     "language": "python",
     "metadata": {},
     "outputs": [
      {
       "output_type": "stream",
       "stream": "stdout",
       "text": [
        "\n",
        "\t\t<div id=\"vis_afca374151f34089aa785eb86c55e3a2\"></div>\n",
        "\n",
        "\t\t<script type=\"text/javascript\">\n",
        "\t\trequire.config({paths: {d3: \"http://d3js.org/d3.v3.min\"}});\n",
        "\n",
        "\t\trequire([\"d3\"], function(d3) {\n",
        "\t\t  console.log(d3.version);\n",
        "\t\t  \n",
        "\t\t  \n",
        "\t\tconsole.log(d3.version);\n",
        "\t\t  \n",
        "\t\t  var svg = d3.select(\"#vis_afca374151f34089aa785eb86c55e3a2\").append(\"svg\")\n",
        "\t\t    .attr(\"height\",100)\n",
        "\t\t  \n",
        "\t\t  var circle = svg.selectAll(\"circle\")\n",
        "\t\t    .data([10, 20, 30, 40])\n",
        "\t\t    .enter()\n",
        "\t\t    .append(\"circle\")\n",
        "\t\t    .attr(\"r\", function(d) { return d })\n",
        "\t\t    .attr(\"cx\", function(d, i){return 50 + (i*80)})\n",
        "\t\t    .attr(\"cy\", 50);\n",
        "\t\t\n",
        "\t\t});\n",
        "\n",
        "\t\t</script>\n",
        "\t\t\n"
       ]
      }
     ],
     "prompt_number": 19
    },
    {
     "cell_type": "code",
     "collapsed": false,
     "input": [
      "HTML(corfu.corfu.TestVis()._to_html())"
     ],
     "language": "python",
     "metadata": {},
     "outputs": [
      {
       "html": [
        "\n",
        "\t\t<div id=\"vis_d39185d945a7463db16a46f070677b93\"></div>\n",
        "\n",
        "\t\t<script type=\"text/javascript\">\n",
        "\t\trequire.config({paths: {d3: \"http://d3js.org/d3.v3.min\"}});\n",
        "\n",
        "\t\trequire([\"d3\"], function(d3) {\n",
        "\t\t  console.log(d3.version);\n",
        "\t\t  \n",
        "\t\t  \n",
        "\t\tconsole.log(d3.version);\n",
        "\t\t  \n",
        "\t\t  var svg = d3.select(\"#vis_d39185d945a7463db16a46f070677b93\").append(\"svg\")\n",
        "\t\t    .attr(\"height\",100)\n",
        "\t\t  \n",
        "\t\t  var circle = svg.selectAll(\"circle\")\n",
        "\t\t    .data([10, 20, 30, 40])\n",
        "\t\t    .enter()\n",
        "\t\t    .append(\"circle\")\n",
        "\t\t    .attr(\"r\", function(d) { return d })\n",
        "\t\t    .attr(\"cx\", function(d, i){return 50 + (i*80)})\n",
        "\t\t    .attr(\"cy\", 50);\n",
        "\t\t\n",
        "\t\t});\n",
        "\n",
        "\t\t</script>\n",
        "\t\t"
       ],
       "metadata": {},
       "output_type": "pyout",
       "prompt_number": 20,
       "text": [
        "<IPython.core.display.HTML at 0x104994ad0>"
       ]
      }
     ],
     "prompt_number": 20
    },
    {
     "cell_type": "code",
     "collapsed": false,
     "input": [],
     "language": "python",
     "metadata": {},
     "outputs": []
    }
   ],
   "metadata": {}
  }
 ]
}
{
 "metadata": {
  "name": "",
  "signature": "sha256:3583e68ac3968fcb3783d61a26997c7ea9aff4d606083b09faa9577b3417fc2e"
 },
 "nbformat": 3,
 "nbformat_minor": 0,
 "worksheets": [
  {
   "cells": [
    {
     "cell_type": "code",
     "collapsed": false,
     "input": [
      "from IPython.display import display, HTML, Javascript"
     ],
     "language": "python",
     "metadata": {},
     "outputs": [],
     "prompt_number": 51
    },
    {
     "cell_type": "code",
     "collapsed": false,
     "input": [
      "display(HTML(\"\"\"\n",
      "\n",
      "<div id=\"viz\"></div>\n",
      "\n",
      "<script type=\"text/javascript\">\n",
      "require.config({paths: {d3: \"http://d3js.org/d3.v3.min\"}});\n",
      "\n",
      "require([\"d3\"], function(d3) {\n",
      "  console.log(d3.version);\n",
      "  \n",
      "  var svg = d3.select(\"#viz\").append(\"svg\")\n",
      "    .attr(\"height\",100)\n",
      "  \n",
      "  var circle = svg.selectAll(\"circle\")\n",
      "    .data([10, 20, 30, 40])\n",
      "    .enter()\n",
      "    .append(\"circle\")\n",
      "    .attr(\"r\", function(d) { return d })\n",
      "    .attr(\"cx\", function(d, i){return 50 + (i*80)})\n",
      "    .attr(\"cy\", 50);\n",
      "});\n",
      "\n",
      "</script>\n",
      "\n",
      "\"\"\"))"
     ],
     "language": "python",
     "metadata": {},
     "outputs": [
      {
       "html": [
        "\n",
        "\n",
        "<div id=\"viz\"></div>\n",
        "\n",
        "<script type=\"text/javascript\">\n",
        "require.config({paths: {d3: \"http://d3js.org/d3.v3.min\"}});\n",
        "\n",
        "require([\"d3\"], function(d3) {\n",
        "  console.log(d3.version);\n",
        "  \n",
        "  var svg = d3.select(\"#viz\").append(\"svg\")\n",
        "    .attr(\"height\",100)\n",
        "  \n",
        "  var circle = svg.selectAll(\"circle\")\n",
        "    .data([10, 20, 30, 40])\n",
        "    .enter()\n",
        "    .append(\"circle\")\n",
        "    .attr(\"r\", function(d) { return d })\n",
        "    .attr(\"cx\", function(d, i){return 50 + (i*80)})\n",
        "    .attr(\"cy\", 50);\n",
        "});\n",
        "\n",
        "</script>\n",
        "\n"
       ],
       "metadata": {},
       "output_type": "display_data",
       "text": [
        "<IPython.core.display.HTML at 0x10473bd50>"
       ]
      }
     ],
     "prompt_number": 100
    },
    {
     "cell_type": "code",
     "collapsed": false,
     "input": [],
     "language": "python",
     "metadata": {},
     "outputs": []
    },
    {
     "cell_type": "code",
     "collapsed": false,
     "input": [],
     "language": "python",
     "metadata": {},
     "outputs": []
    }
   ],
   "metadata": {}
  }
 ]
}
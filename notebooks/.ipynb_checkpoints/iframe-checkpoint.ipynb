{
 "metadata": {
  "name": "",
  "signature": "sha256:3e36ef35b0eb23da4dad373045078a22452d764c4587fc37083910bc28371d73"
 },
 "nbformat": 3,
 "nbformat_minor": 0,
 "worksheets": [
  {
   "cells": [
    {
     "cell_type": "code",
     "collapsed": false,
     "input": [
      "%load_ext autoreload\n",
      "%autoreload 2"
     ],
     "language": "python",
     "metadata": {},
     "outputs": [],
     "prompt_number": 1
    },
    {
     "cell_type": "code",
     "collapsed": false,
     "input": [
      "from IPython.display import display, HTML, Javascript\n",
      "\n",
      "import corfu"
     ],
     "language": "python",
     "metadata": {},
     "outputs": [
      {
       "output_type": "stream",
       "stream": "stdout",
       "text": [
        "corfu\n"
       ]
      }
     ],
     "prompt_number": 2
    },
    {
     "cell_type": "code",
     "collapsed": false,
     "input": [
      "corfu.corfu.D3Vis()._to_html()"
     ],
     "language": "python",
     "metadata": {},
     "outputs": [
      {
       "metadata": {},
       "output_type": "pyout",
       "prompt_number": 6,
       "text": [
        "u'\\n\\t\\t<div id=\"vis_99d1ee6efaec4d25a64752f9640dfff6\"></div>\\n\\n\\t\\t<script type=\"text/javascript\">\\n\\t\\trequire.config({paths: {d3: \"http://d3js.org/d3.v3.min\"}});\\n\\n\\t\\trequire([\"d3\"], function(d3) {\\n\\t\\t  console.log(d3.version);\\n\\t\\t  \\n\\t\\t  \\n\\t\\t});\\n\\n\\t\\t</script>\\n\\t\\t'"
       ]
      }
     ],
     "prompt_number": 6
    },
    {
     "cell_type": "code",
     "collapsed": false,
     "input": [
      "HTML(corfu.corfu.D3Vis()._to_html())"
     ],
     "language": "python",
     "metadata": {},
     "outputs": [
      {
       "html": [
        "\n",
        "\t\t<div id=\"vis_e01d1e60fd7444dd8a29e02dfb154e03\"></div>\n",
        "\n",
        "\t\t<script type=\"text/javascript\">\n",
        "\t\trequire.config({paths: {d3: \"http://d3js.org/d3.v3.min\"}});\n",
        "\n",
        "\t\trequire([\"d3\"], function(d3) {\n",
        "\t\t  console.log(d3.version);\n",
        "\t\t  \n",
        "\t\t  \n",
        "\t\t});\n",
        "\n",
        "\t\t</script>\n",
        "\t\t"
       ],
       "metadata": {},
       "output_type": "pyout",
       "prompt_number": 7,
       "text": [
        "<IPython.core.display.HTML at 0x104947f90>"
       ]
      }
     ],
     "prompt_number": 7
    },
    {
     "cell_type": "code",
     "collapsed": false,
     "input": [
      "print corfu.corfu.TestVis()._to_html()"
     ],
     "language": "python",
     "metadata": {},
     "outputs": [
      {
       "output_type": "stream",
       "stream": "stdout",
       "text": [
        "\n",
        "\t\t<div id=\"vis_afca374151f34089aa785eb86c55e3a2\"></div>\n",
        "\n",
        "\t\t<script type=\"text/javascript\">\n",
        "\t\trequire.config({paths: {d3: \"http://d3js.org/d3.v3.min\"}});\n",
        "\n",
        "\t\trequire([\"d3\"], function(d3) {\n",
        "\t\t  console.log(d3.version);\n",
        "\t\t  \n",
        "\t\t  \n",
        "\t\tconsole.log(d3.version);\n",
        "\t\t  \n",
        "\t\t  var svg = d3.select(\"#vis_afca374151f34089aa785eb86c55e3a2\").append(\"svg\")\n",
        "\t\t    .attr(\"height\",100)\n",
        "\t\t  \n",
        "\t\t  var circle = svg.selectAll(\"circle\")\n",
        "\t\t    .data([10, 20, 30, 40])\n",
        "\t\t    .enter()\n",
        "\t\t    .append(\"circle\")\n",
        "\t\t    .attr(\"r\", function(d) { return d })\n",
        "\t\t    .attr(\"cx\", function(d, i){return 50 + (i*80)})\n",
        "\t\t    .attr(\"cy\", 50);\n",
        "\t\t\n",
        "\t\t});\n",
        "\n",
        "\t\t</script>\n",
        "\t\t\n"
       ]
      }
     ],
     "prompt_number": 19
    },
    {
     "cell_type": "code",
     "collapsed": false,
     "input": [
      "HTML(corfu.corfu.TestVis()._to_html())"
     ],
     "language": "python",
     "metadata": {},
     "outputs": [
      {
       "html": [
        "\n",
        "\t\t<div id=\"vis_c08fb67e7eee43e89ebbb1f19f089f8b\"></div>\n",
        "\n",
        "\t\t<script type=\"text/javascript\">\n",
        "\t\trequire.config({paths: {d3: \"http://d3js.org/d3.v3.min\"}});\n",
        "\n",
        "\t\trequire([\"d3\"], function(d3) {\n",
        "\t\t  console.log(d3.version);\n",
        "\t\t  \n",
        "\t\t  \n",
        "\t\tconsole.log(d3.version);\n",
        "\t\t  \n",
        "\t\t  var svg = d3.select(\"#vis_c08fb67e7eee43e89ebbb1f19f089f8b\").append(\"svg\")\n",
        "\t\t    .attr(\"height\",100)\n",
        "\t\t  \n",
        "\t\t  var circle = svg.selectAll(\"circle\")\n",
        "\t\t    .data([10, 20, 30, 40])\n",
        "\t\t    .enter()\n",
        "\t\t    .append(\"circle\")\n",
        "\t\t    .attr(\"r\", function(d) { return d })\n",
        "\t\t    .attr(\"cx\", function(d, i){return 50 + (i*80)})\n",
        "\t\t    .attr(\"cy\", 50);\n",
        "\t\t\n",
        "\t\t});\n",
        "\n",
        "\t\t</script>\n",
        "\t\t"
       ],
       "metadata": {},
       "output_type": "pyout",
       "prompt_number": 21,
       "text": [
        "<IPython.core.display.HTML at 0x104994e90>"
       ]
      }
     ],
     "prompt_number": 21
    },
    {
     "cell_type": "code",
     "collapsed": false,
     "input": [
      "print corfu.corfu.CalendarView({'2000-02-01':0.1})._to_html()"
     ],
     "language": "python",
     "metadata": {},
     "outputs": [
      {
       "output_type": "stream",
       "stream": "stdout",
       "text": [
        "\n",
        "        <div id=\"vis_cb1a7203110e44b5be80e1f6efa2b0dc\"></div>\n",
        "\n",
        "        <style>\n",
        "            \n",
        "            body {\n",
        "              font: 10px sans-serif;\n",
        "              shape-rendering: crispEdges;\n",
        "            }\n",
        "\n",
        "            .day {\n",
        "              fill: #fff;\n",
        "              stroke: #ccc;\n",
        "            }\n",
        "\n",
        "            .month {\n",
        "              fill: none;\n",
        "              stroke: #000;\n",
        "              stroke-width: 2px;\n",
        "            }\n",
        "\n",
        "            .RdYlGn .q0-11{fill:rgb(165,0,38)}\n",
        "            .RdYlGn .q1-11{fill:rgb(215,48,39)}\n",
        "            .RdYlGn .q2-11{fill:rgb(244,109,67)}\n",
        "            .RdYlGn .q3-11{fill:rgb(253,174,97)}\n",
        "            .RdYlGn .q4-11{fill:rgb(254,224,139)}\n",
        "            .RdYlGn .q5-11{fill:rgb(255,255,191)}\n",
        "            .RdYlGn .q6-11{fill:rgb(217,239,139)}\n",
        "            .RdYlGn .q7-11{fill:rgb(166,217,106)}\n",
        "            .RdYlGn .q8-11{fill:rgb(102,189,99)}\n",
        "            .RdYlGn .q9-11{fill:rgb(26,152,80)}\n",
        "            .RdYlGn .q10-11{fill:rgb(0,104,55)}\n",
        "            \n",
        "        </style>\n",
        "\n",
        "        <script type=\"text/javascript\">\n",
        "        require.config({paths: {d3: \"http://d3js.org/d3.v3.min\"}});\n",
        "\n",
        "        require([\"d3\"], function(d3) {\n",
        "          console.log(d3.version);\n",
        "          \n",
        "          \n",
        "            var width = 960,\n",
        "                height = 136,\n",
        "                cellSize = 17; // cell size\n",
        "\n",
        "            var day = d3.time.format(\"%w\"),\n",
        "                week = d3.time.format(\"%U\"),\n",
        "                percent = d3.format(\".1%\"),\n",
        "                format = d3.time.format(\"%Y-%m-%d\");\n",
        "\n",
        "            var color = d3.scale.quantize()\n",
        "                .domain([-.05, .05])\n",
        "                .range(d3.range(11).map(function(d) { return \"q\" + d + \"-11\"; }));\n",
        "\n",
        "            var svg = d3.select(\"#vis_cb1a7203110e44b5be80e1f6efa2b0dc\").selectAll(\"svg\")\n",
        "                .data(d3.range(2000, 2002))\n",
        "              .enter().append(\"svg\")\n",
        "                .attr(\"width\", width)\n",
        "                .attr(\"height\", height)\n",
        "                .attr(\"class\", \"RdYlGn\")\n",
        "              .append(\"g\")\n",
        "                .attr(\"transform\", \"translate(\" + ((width - cellSize * 53) / 2) + \",\" + (height - cellSize * 7 - 1) + \")\");\n",
        "\n",
        "            svg.append(\"text\")\n",
        "                .attr(\"transform\", \"translate(-6,\" + cellSize * 3.5 + \")rotate(-90)\")\n",
        "                .style(\"text-anchor\", \"middle\")\n",
        "                .text(function(d) { return d; });\n",
        "\n",
        "            var rect = svg.selectAll(\".day\")\n",
        "                .data(function(d) { return d3.time.days(new Date(d, 0, 1), new Date(d + 1, 0, 1)); })\n",
        "              .enter().append(\"rect\")\n",
        "                .attr(\"class\", \"day\")\n",
        "                .attr(\"width\", cellSize)\n",
        "                .attr(\"height\", cellSize)\n",
        "                .attr(\"x\", function(d) { return week(d) * cellSize; })\n",
        "                .attr(\"y\", function(d) { return day(d) * cellSize; })\n",
        "                .datum(format);\n",
        "\n",
        "            rect.append(\"title\")\n",
        "                .text(function(d) { return d; });\n",
        "\n",
        "            svg.selectAll(\".month\")\n",
        "                .data(function(d) { return d3.time.months(new Date(d, 0, 1), new Date(d + 1, 0, 1)); })\n",
        "              .enter().append(\"path\")\n",
        "                .attr(\"class\", \"month\")\n",
        "                .attr(\"d\", monthPath);\n",
        "\n",
        "            var data = {\"2000-02-01\": 0.1};\n",
        "\n",
        "              rect.filter(function(d) { return d in data; })\n",
        "                  .attr(\"class\", function(d) { return \"day \" + color(data[d]); })\n",
        "                .select(\"title\")\n",
        "                  .text(function(d) { return d + \": \" + percent(data[d]); });\n",
        "\n",
        "            function monthPath(t0) {\n",
        "              var t1 = new Date(t0.getFullYear(), t0.getMonth() + 1, 0),\n",
        "                  d0 = +day(t0), w0 = +week(t0),\n",
        "                  d1 = +day(t1), w1 = +week(t1);\n",
        "              return \"M\" + (w0 + 1) * cellSize + \",\" + d0 * cellSize\n",
        "                  + \"H\" + w0 * cellSize + \"V\" + 7 * cellSize\n",
        "                  + \"H\" + w1 * cellSize + \"V\" + (d1 + 1) * cellSize\n",
        "                  + \"H\" + (w1 + 1) * cellSize + \"V\" + 0\n",
        "                  + \"H\" + (w0 + 1) * cellSize + \"Z\";\n",
        "            }\n",
        "\n",
        "            d3.select(self.frameElement).style(\"height\", \"2910px\");\n",
        "        });\n",
        "\n",
        "        </script>\n",
        "        \n"
       ]
      }
     ],
     "prompt_number": 55
    },
    {
     "cell_type": "code",
     "collapsed": false,
     "input": [
      "HTML(corfu.corfu.CalendarView({'2000-02-01':0.1})._to_html())"
     ],
     "language": "python",
     "metadata": {},
     "outputs": [
      {
       "html": [
        "\n",
        "        <div id=\"vis_272767d172424cd3b2e0d23979951135\"></div>\n",
        "\n",
        "        <style>\n",
        "            \n",
        "            body {\n",
        "              font: 10px sans-serif;\n",
        "              shape-rendering: crispEdges;\n",
        "            }\n",
        "\n",
        "            .day {\n",
        "              fill: #fff;\n",
        "              stroke: #ccc;\n",
        "            }\n",
        "\n",
        "            .month {\n",
        "              fill: none;\n",
        "              stroke: #000;\n",
        "              stroke-width: 2px;\n",
        "            }\n",
        "\n",
        "            .RdYlGn .q0-11{fill:rgb(165,0,38)}\n",
        "            .RdYlGn .q1-11{fill:rgb(215,48,39)}\n",
        "            .RdYlGn .q2-11{fill:rgb(244,109,67)}\n",
        "            .RdYlGn .q3-11{fill:rgb(253,174,97)}\n",
        "            .RdYlGn .q4-11{fill:rgb(254,224,139)}\n",
        "            .RdYlGn .q5-11{fill:rgb(255,255,191)}\n",
        "            .RdYlGn .q6-11{fill:rgb(217,239,139)}\n",
        "            .RdYlGn .q7-11{fill:rgb(166,217,106)}\n",
        "            .RdYlGn .q8-11{fill:rgb(102,189,99)}\n",
        "            .RdYlGn .q9-11{fill:rgb(26,152,80)}\n",
        "            .RdYlGn .q10-11{fill:rgb(0,104,55)}\n",
        "            \n",
        "        </style>\n",
        "\n",
        "        <script type=\"text/javascript\">\n",
        "        require.config({paths: {d3: \"http://d3js.org/d3.v3.min\"}});\n",
        "\n",
        "        require([\"d3\"], function(d3) {\n",
        "          console.log(d3.version);\n",
        "          \n",
        "          \n",
        "            var width = 960,\n",
        "                height = 136,\n",
        "                cellSize = 17; // cell size\n",
        "\n",
        "            var day = d3.time.format(\"%w\"),\n",
        "                week = d3.time.format(\"%U\"),\n",
        "                percent = d3.format(\".1%\"),\n",
        "                format = d3.time.format(\"%Y-%m-%d\");\n",
        "\n",
        "            var color = d3.scale.quantize()\n",
        "                .domain([-.05, .05])\n",
        "                .range(d3.range(11).map(function(d) { return \"q\" + d + \"-11\"; }));\n",
        "\n",
        "            var svg = d3.select(\"#vis_272767d172424cd3b2e0d23979951135\").selectAll(\"svg\")\n",
        "                .data(d3.range(2000, 2002))\n",
        "              .enter().append(\"svg\")\n",
        "                .attr(\"width\", width)\n",
        "                .attr(\"height\", height)\n",
        "                .attr(\"class\", \"RdYlGn\")\n",
        "              .append(\"g\")\n",
        "                .attr(\"transform\", \"translate(\" + ((width - cellSize * 53) / 2) + \",\" + (height - cellSize * 7 - 1) + \")\");\n",
        "\n",
        "            svg.append(\"text\")\n",
        "                .attr(\"transform\", \"translate(-6,\" + cellSize * 3.5 + \")rotate(-90)\")\n",
        "                .style(\"text-anchor\", \"middle\")\n",
        "                .text(function(d) { return d; });\n",
        "\n",
        "            var rect = svg.selectAll(\".day\")\n",
        "                .data(function(d) { return d3.time.days(new Date(d, 0, 1), new Date(d + 1, 0, 1)); })\n",
        "              .enter().append(\"rect\")\n",
        "                .attr(\"class\", \"day\")\n",
        "                .attr(\"width\", cellSize)\n",
        "                .attr(\"height\", cellSize)\n",
        "                .attr(\"x\", function(d) { return week(d) * cellSize; })\n",
        "                .attr(\"y\", function(d) { return day(d) * cellSize; })\n",
        "                .datum(format);\n",
        "\n",
        "            rect.append(\"title\")\n",
        "                .text(function(d) { return d; });\n",
        "\n",
        "            svg.selectAll(\".month\")\n",
        "                .data(function(d) { return d3.time.months(new Date(d, 0, 1), new Date(d + 1, 0, 1)); })\n",
        "              .enter().append(\"path\")\n",
        "                .attr(\"class\", \"month\")\n",
        "                .attr(\"d\", monthPath);\n",
        "\n",
        "            var data = {\"2000-02-01\": 0.1};\n",
        "\n",
        "              rect.filter(function(d) { return d in data; })\n",
        "                  .attr(\"class\", function(d) { return \"day \" + color(data[d]); })\n",
        "                .select(\"title\")\n",
        "                  .text(function(d) { return d + \": \" + percent(data[d]); });\n",
        "\n",
        "            function monthPath(t0) {\n",
        "              var t1 = new Date(t0.getFullYear(), t0.getMonth() + 1, 0),\n",
        "                  d0 = +day(t0), w0 = +week(t0),\n",
        "                  d1 = +day(t1), w1 = +week(t1);\n",
        "              return \"M\" + (w0 + 1) * cellSize + \",\" + d0 * cellSize\n",
        "                  + \"H\" + w0 * cellSize + \"V\" + 7 * cellSize\n",
        "                  + \"H\" + w1 * cellSize + \"V\" + (d1 + 1) * cellSize\n",
        "                  + \"H\" + (w1 + 1) * cellSize + \"V\" + 0\n",
        "                  + \"H\" + (w0 + 1) * cellSize + \"Z\";\n",
        "            }\n",
        "\n",
        "            d3.select(self.frameElement).style(\"height\", \"2910px\");\n",
        "        });\n",
        "\n",
        "        </script>\n",
        "        "
       ],
       "metadata": {},
       "output_type": "pyout",
       "prompt_number": 56,
       "text": [
        "<IPython.core.display.HTML at 0x104994fd0>"
       ]
      }
     ],
     "prompt_number": 56
    },
    {
     "cell_type": "code",
     "collapsed": false,
     "input": [],
     "language": "python",
     "metadata": {},
     "outputs": []
    }
   ],
   "metadata": {}
  }
 ]
}